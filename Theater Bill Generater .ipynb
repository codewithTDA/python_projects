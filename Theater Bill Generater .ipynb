{
 "cells": [
  {
   "cell_type": "markdown",
   "id": "914299a7-879d-4db8-9776-9218598be5fe",
   "metadata": {},
   "source": [
    "PROJECT : 1\n",
    "THEATER TICKET BOOKING BILL GENERATER"
   ]
  },
  {
   "cell_type": "code",
   "execution_count": null,
   "id": "d839d54d-f5d8-4d96-b4f5-afdbd88cd1f2",
   "metadata": {},
   "outputs": [
    {
     "name": "stdout",
     "output_type": "stream",
     "text": [
      "-----------THEATER TICKET BOOKING COUNTER----------\n",
      "                      WELCOME                      \n",
      "Types of seats\n",
      "    -> daimond seats(di) - Rs500\n",
      "    -> platinum seats(pl) - Rs350\n",
      "    -> golden seats(go) - Rs200\n"
     ]
    },
    {
     "name": "stdin",
     "output_type": "stream",
     "text": [
      "enter type of seats[di,pl,go] :  di\n"
     ]
    }
   ],
   "source": [
    "print(\"-----------THEATER TICKET BOOKING COUNTER----------\")\n",
    "print(\"                      WELCOME                      \")\n",
    "amount=0\n",
    "d_seats,p_seats,g_seats = \"type of seats\",\"type of seats\",\"type of seats\"\n",
    "d_seats = 20\n",
    "p_seats = 30\n",
    "g_seats = 100\n",
    "\n",
    "while True:\n",
    "    print(\"\"\"Types of seats\n",
    "    -> daimond seats(di) - Rs500\n",
    "    -> platinum seats(pl) - Rs350\n",
    "    -> golden seats(go) - Rs200\"\"\")\n",
    "    a=input(\"enter type of seats[di,pl,go] : \")\n",
    "    while True:\n",
    "        n=int(input(\"enter no. of seats :\"  ))\n",
    "                    \n",
    "        if a == \"di\":\n",
    "            if n > d_seats:\n",
    "                print(\"enter right no. of seats !\")\n",
    "                print(\"avilable d_seats are : \",d_seats)\n",
    "            else:\n",
    "                d_seats = d_seats- n\n",
    "                amount += n*500 \n",
    "                print(\"avilable d_seats are : \",d_seats)\n",
    "                break\n",
    "                            \n",
    "        if a == \"pl\":\n",
    "            if n > p_seats:\n",
    "                print(\"enter right no of seats !\")\n",
    "                print(\"avilable p_seats are : \",p_seats)\n",
    "            else:\n",
    "                p_seats = p_seats- n\n",
    "                amount += n*350 \n",
    "                print(\"avilable p_seats are : \",p_seats)\n",
    "                break\n",
    "                    \n",
    "        if a == \"go\":\n",
    "            if n > g_seats:\n",
    "                print(\"enter right no of seats !\")\n",
    "                print(\"avilable g_seats are : \",g_seats) \n",
    "            else:\n",
    "                g_seats = g_seats- n\n",
    "                amount += n*200 \n",
    "                print(\"avilable g_seats are : \",g_seats)\n",
    "                break\n",
    "                \n",
    "    w = input(\"do you want to add combo ?(y/n) : \")\n",
    "    combo_price = 0\n",
    "    if w == \"y\":\n",
    "            q=int(input(\"choose combo price ? [150,250,500] : \"))\n",
    "            if q == 150 :\n",
    "                combo_price += 150\n",
    "            if q == 250:\n",
    "                combo_price += 250\n",
    "            if q == 500:\n",
    "                combo_price += 500\n",
    "                    \n",
    "            total_amount = amount+combo_price \n",
    "    else:\n",
    "            total_amount = amount\n",
    "                  \n",
    "    print(\"___________________YOUR BILL______________________\")\n",
    "    print(input(\"customers name :\"))\n",
    "    print(\"total payable amount (in Rupees) : \",total_amount)\n",
    "    totalseats = d_seats + p_seats + g_seats\n",
    "    print(\"total_avilable_seats : \",totalseats)\n",
    "    print(\"THANK YOU , VISIT AGAIN \")\n",
    "    print(\"*\"*50)\n",
    "            \n",
    "    n_person = input(\"new customer ? (y/n) :\")\n",
    "    if n_person == \"n\":\n",
    "        break\n",
    "    print(\"*\"*50)\n",
    "  "
   ]
  },
  {
   "cell_type": "code",
   "execution_count": null,
   "id": "dd0996ac-1d52-4b28-bb10-5416dcc4b893",
   "metadata": {},
   "outputs": [],
   "source": []
  }
 ],
 "metadata": {
  "kernelspec": {
   "display_name": "Python 3 (ipykernel)",
   "language": "python",
   "name": "python3"
  },
  "language_info": {
   "codemirror_mode": {
    "name": "ipython",
    "version": 3
   },
   "file_extension": ".py",
   "mimetype": "text/x-python",
   "name": "python",
   "nbconvert_exporter": "python",
   "pygments_lexer": "ipython3",
   "version": "3.11.6"
  }
 },
 "nbformat": 4,
 "nbformat_minor": 5
}
