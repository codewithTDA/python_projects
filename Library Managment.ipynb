{
 "cells": [
  {
   "cell_type": "markdown",
   "id": "63cfd409-103f-44db-9a6a-f28367fb8d80",
   "metadata": {},
   "source": [
    "## LIBRARY MANAGMENT PROJECT"
   ]
  },
  {
   "cell_type": "code",
   "execution_count": null,
   "id": "9a887ec2-8519-471c-a6db-9befb790209c",
   "metadata": {},
   "outputs": [
    {
     "name": "stdout",
     "output_type": "stream",
     "text": [
      "**********STUDY POINT LIBRARY**********\n"
     ]
    },
    {
     "name": "stdin",
     "output_type": "stream",
     "text": [
      "enter your username :  manuj\n",
      "enter password :  man123\n"
     ]
    },
    {
     "name": "stdout",
     "output_type": "stream",
     "text": [
      "login suceessfully \n",
      "\n",
      "            press 1 to borrow \n",
      "            press 2 to return\n",
      "            press 3 to check book stocks details\n",
      "            press 4 to check Who has taken which book?\n"
     ]
    },
    {
     "name": "stdin",
     "output_type": "stream",
     "text": [
      "enter your choice(1-4) :  2\n",
      "enter your name :  manuj\n"
     ]
    },
    {
     "name": "stdout",
     "output_type": "stream",
     "text": [
      "invalid input\n",
      "{'C': 20, 'Python': 15, 'C++': 10, 'Java': 10}\n",
      "{}\n",
      "\n",
      "            press 1 to borrow \n",
      "            press 2 to return\n",
      "            press 3 to check book stocks details\n",
      "            press 4 to check Who has taken which book?\n"
     ]
    }
   ],
   "source": [
    "books = {\"C\":20,\"Python\":15,\"C++\":10,\"Java\":10}\n",
    "bb = {}\n",
    "print(\"**********STUDY POINT LIBRARY**********\")\n",
    "while True:\n",
    "    username = \"manuj\"\n",
    "    password = \"man123\"\n",
    "    \n",
    "    a = input(\"enter your username : \").strip()\n",
    "    x = input(\"enter password : \").strip()\n",
    "    \n",
    "    if a == username and x == password :\n",
    "        print(\"login suceessfully \")\n",
    "        while True:\n",
    "            print(\"\"\"\n",
    "            press 1 to borrow \n",
    "            press 2 to return\n",
    "            press 3 to check book stocks details\n",
    "            press 4 to check Who has taken which book?\"\"\")\n",
    "            choice = int(input(\"enter your choice(1-4) : \"))\n",
    "            \n",
    "            \n",
    "            \n",
    "            if choice == 1:\n",
    "                name = input(\"enter your name : \").title()\n",
    "                n_books = []\n",
    "                \n",
    "                while True:\n",
    "                    book = input(\"enter book name : \").title()\n",
    "                    books [book] -= 1\n",
    "                    n_books.append(book)\n",
    "                    bb [name]  = n_books\n",
    "                    print(\"Book Added Sucessfully\")\n",
    "                    rc_b = input(\"do you want to aad more books ? (yes/no) \")\n",
    "                    if rc_b == \"no\":\n",
    "                        break\n",
    "        \n",
    "                print(books)\n",
    "                print(bb)\n",
    "            \n",
    "            \n",
    "            elif choice == 2:\n",
    "                name = input(\"enter your name : \").title()\n",
    "                if name in bb.keys():\n",
    "                    \n",
    "                    while True:\n",
    "                        book = input(\"enter book name : \").title()\n",
    "                        books [book] += 1\n",
    "                        print(\"Book Return Sucessfully\")\n",
    "                        bb[n_books].remove(book)\n",
    "                        rc_r = input(\"do you want to remove more books ? (yes/no) \")\n",
    "                        if rc_r == \"no\":\n",
    "                            break\n",
    "    \n",
    "                else:\n",
    "                    print(\"invalid input\")\n",
    "        \n",
    "                print(books)\n",
    "                print(bb)\n",
    "        \n",
    "            elif choice == 3:\n",
    "                print(books)\n",
    "        \n",
    "        \n",
    "                rc_o = input(\"you want another choice ? (yes/no) \")\n",
    "                if rc_o == \"no\":\n",
    "                    break\n",
    "    \n",
    "    \n",
    "            elif choice == 4:\n",
    "                if bb == {}:\n",
    "                    print(\"books not taken by anyone.\")\n",
    "                else:\n",
    "                    print(\"Who has taken which book?\",bb)\n",
    "\n",
    "    \n",
    "    else:\n",
    "        print(\"username/password is invalid! , please try again.\")\n",
    "\n",
    "    r=input(\"re-enter id or password : \").title()\n",
    "    if r == \"No\":\n",
    "        break\n",
    "\n",
    "\n",
    "print(\"\"\"*****THERE IS NO FRIEND AS LOYAL AS A BOOK*****\n",
    "***********THANKYOU FOR VISIT LIBRARY**********\"\"\")"
   ]
  },
  {
   "cell_type": "code",
   "execution_count": null,
   "id": "8f53f050-1f77-4cf0-a964-cab05b7c698c",
   "metadata": {},
   "outputs": [],
   "source": []
  },
  {
   "cell_type": "code",
   "execution_count": null,
   "id": "ee25a823-cbeb-4c70-a873-d3c52a00dea7",
   "metadata": {},
   "outputs": [],
   "source": []
  }
 ],
 "metadata": {
  "kernelspec": {
   "display_name": "Python 3 (ipykernel)",
   "language": "python",
   "name": "python3"
  },
  "language_info": {
   "codemirror_mode": {
    "name": "ipython",
    "version": 3
   },
   "file_extension": ".py",
   "mimetype": "text/x-python",
   "name": "python",
   "nbconvert_exporter": "python",
   "pygments_lexer": "ipython3",
   "version": "3.11.6"
  }
 },
 "nbformat": 4,
 "nbformat_minor": 5
}
